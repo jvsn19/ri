{
 "cells": [
  {
   "cell_type": "code",
   "execution_count": 506,
   "metadata": {},
   "outputs": [
    {
     "name": "stdout",
     "output_type": "stream",
     "text": [
      "[nltk_data] Downloading package stopwords to\n",
      "[nltk_data]     C:\\Users\\jvsn1\\AppData\\Roaming\\nltk_data...\n",
      "[nltk_data]   Package stopwords is already up-to-date!\n"
     ]
    },
    {
     "data": {
      "text/plain": [
       "True"
      ]
     },
     "execution_count": 506,
     "metadata": {},
     "output_type": "execute_result"
    }
   ],
   "source": [
    "from nltk.corpus import stopwords \n",
    "import re\n",
    "import unidecode\n",
    "import os\n",
    "import json\n",
    "from math import log\n",
    "from sklearn.feature_extraction.text import TfidfVectorizer\n",
    "nltk.download('stopwords')"
   ]
  },
  {
   "cell_type": "code",
   "execution_count": 668,
   "metadata": {},
   "outputs": [],
   "source": [
    "class QueryProcessor():\n",
    "    def __init__(self, invIndexPath, documentsPath):\n",
    "        self.descr = None\n",
    "        self.queryTerms = None\n",
    "        self.invIndex = None # inverted index file\n",
    "        self.posting = None # posting file (document at a time)\n",
    "        self.termIDF = None\n",
    "        self.lengthDoc = None\n",
    "        self.documentsPath = documentsPath\n",
    "        self.setInvIndex(invIndexPath)\n",
    "        self.wordsDocuments = list(self.invIndex.keys()) # all words of all documents\n",
    "        self.numDocs = len(os.listdir(documentsPath)) # number of documents in database\n",
    "        self.setLengthDocs() # set length of documents\n",
    "        self.runIDF()\n",
    "        \n",
    "    '''\n",
    "        * Method where receive an list of words and cleans it, removing\n",
    "        * stopwords (if useStopwords == True), accentuation and punctuation\n",
    "    '''\n",
    "    def cleaning(self, words, useStopwords = False):\n",
    "        if type(words) == str:\n",
    "            words = words.strip().split(' ')\n",
    "        toRemove = r'[.*,;\\(\\)\\'\\\"\\?\\!%\\$]'\n",
    "        for i in range(len(words)):\n",
    "            words[i] = re.sub(toRemove, '', words[i])\n",
    "            words[i] = unidecode.unidecode(words[i])\n",
    "        if useStopwords:\n",
    "            set_sw = set(stopwords.words('english'))\n",
    "            newWords = []\n",
    "            for word in words:\n",
    "                if not word in set_sw:\n",
    "                    newWords.append(word)\n",
    "            return list(set(newWords))\n",
    "        return list(set(words))\n",
    "            \n",
    "    '''\n",
    "        * Set the self.invIndex to a dict where key is a term and values is a tuple\n",
    "        * (freq, doc), where freq is the frequency of that key term in the document\n",
    "        * doc\n",
    "    '''\n",
    "    def setInvIndex(self, path):\n",
    "        with open(path, encoding='utf-8') as file:\n",
    "            file_text = file.read()[2:-1]\n",
    "            json_dict = json.loads(file_text)\n",
    "        self.invIndex = json_dict\n",
    "    \n",
    "    '''\n",
    "        *Runs the term at a time algorithm and set self.posting with a dictionary \n",
    "        *with scores of all documents by frequency of terms\n",
    "    '''\n",
    "    def readPosting(self, queryWords):\n",
    "        localReadPosting = {}\n",
    "        for term in queryWords:\n",
    "            freqDocList = self.invIndex.get(term, None)\n",
    "            if freqDocList:\n",
    "                for freq, doc in freqDocList:\n",
    "                    localReadPosting[doc] = localReadPosting.get(doc, 0) + freq\n",
    "        self.documentTermFrequency = localReadPosting\n",
    "        \n",
    "    def getPosting(self):\n",
    "        return self.posting\n",
    "            \n",
    "    '''\n",
    "        * TF algorithm returns the term frequency in a document. An different approach is divide\n",
    "        * this frequency by the number of words in a document\n",
    "    '''\n",
    "    def runTF(self, term, document):\n",
    "        for freq, doc in self.invIndex[term]:\n",
    "            if doc == document:\n",
    "                return freq\n",
    "        return 0\n",
    "    \n",
    "    \n",
    "    '''\n",
    "        * IDF algorithm computes the importance of a term calculating the log of the division between the number\n",
    "        * of documents by the number of documents that contains a term. \n",
    "    '''\n",
    "    def runIDF(self):\n",
    "        termIDF = {}\n",
    "        for term in self.invIndex.keys():\n",
    "            numDocsByTerm = len(self.invIndex[term])\n",
    "            idf = log(self.numDocs/numDocsByTerm)\n",
    "            termIDF[term] = idf\n",
    "        self.termIDF = termIDF\n",
    "                \n",
    "            \n",
    "    def setQuery(self, queryString):\n",
    "        cleanQuery = self.cleaning(queryString, useStopwords=True)\n",
    "        self.readPosting(cleanQuery)\n",
    "        self.queryTerms = cleanQuery\n",
    "        \n",
    "    def performQuery(self, useTfIdf, K = 10):\n",
    "        score = {}\n",
    "        for term in self.queryTerms:\n",
    "            for freq, doc in self.invIndex[term]:\n",
    "                auxScore = freq\n",
    "                if useTfIdf:\n",
    "                    auxScore = auxScore*self.termIDF.get(term, 0)\n",
    "                if not score.get(doc, False):\n",
    "                    score[doc] = auxScore\n",
    "                else:\n",
    "                    score[doc] += auxScore\n",
    "        for doc in score:\n",
    "            score[doc] = score[doc]/self.lengthDoc[doc]\n",
    "        topK = sorted(score.items(), key=lambda x:x[1], reverse=True)[:10]\n",
    "        return topK\n",
    "    \n",
    "    \n",
    "    def query(self, queryString, useTfIdf = False):\n",
    "        self.setQuery(queryString)\n",
    "        return self.performQuery(useTfIdf)\n",
    "    \n",
    "            \n",
    "    def setLengthDocs(self):\n",
    "        lengthDoc = {}\n",
    "        for fileName in os.listdir(self.documentsPath):\n",
    "            filePath = self.documentsPath + '\\\\' + fileName\n",
    "            with open(filePath, 'r') as fp:\n",
    "                lengthDoc[int(fileName)] = len(fp.read().split(' '))\n",
    "        self.lengthDoc = lengthDoc"
   ]
  },
  {
   "cell_type": "code",
   "execution_count": 669,
   "metadata": {},
   "outputs": [],
   "source": [
    "invIndexPath = os.path.abspath('../inverted_index/frequency.json')\n",
    "documents = os.path.abspath('../inverted_index/db/')"
   ]
  },
  {
   "cell_type": "code",
   "execution_count": 670,
   "metadata": {},
   "outputs": [],
   "source": [
    "qp = QueryProcessor(invIndexPath=invIndexPath, documentsPath=documents)"
   ]
  },
  {
   "cell_type": "code",
   "execution_count": 691,
   "metadata": {},
   "outputs": [
    {
     "data": {
      "text/plain": [
       "[(964, 0.1563794496391171),\n",
       " (929, 0.1404767674247011),\n",
       " (219, 0.12099644289164554),\n",
       " (2471, 0.11337598109718491),\n",
       " (346, 0.10095382191892369),\n",
       " (1631, 0.09307418683972735),\n",
       " (2616, 0.09167071185741346),\n",
       " (328, 0.08490978448536529),\n",
       " (1050, 0.08344582268389349),\n",
       " (1674, 0.08344582268389349)]"
      ]
     },
     "execution_count": 691,
     "metadata": {},
     "output_type": "execute_result"
    }
   ],
   "source": [
    "qp.query('challenging game', useTfIdf=True)"
   ]
  },
  {
   "cell_type": "code",
   "execution_count": 692,
   "metadata": {},
   "outputs": [
    {
     "data": {
      "text/plain": [
       "[(219, 0.05),\n",
       " (929, 0.04054054054054054),\n",
       " (964, 0.0392156862745098),\n",
       " (1631, 0.038461538461538464),\n",
       " (328, 0.03508771929824561),\n",
       " (1050, 0.034482758620689655),\n",
       " (1674, 0.034482758620689655),\n",
       " (2549, 0.031914893617021274),\n",
       " (1152, 0.03125),\n",
       " (2406, 0.03076923076923077)]"
      ]
     },
     "execution_count": 692,
     "metadata": {},
     "output_type": "execute_result"
    }
   ],
   "source": [
    "qp.query('challenging game', useTfIdf=False)"
   ]
  },
  {
   "cell_type": "code",
   "execution_count": null,
   "metadata": {},
   "outputs": [],
   "source": []
  }
 ],
 "metadata": {
  "kernelspec": {
   "display_name": "Python 3",
   "language": "python",
   "name": "python3"
  },
  "language_info": {
   "codemirror_mode": {
    "name": "ipython",
    "version": 3
   },
   "file_extension": ".py",
   "mimetype": "text/x-python",
   "name": "python",
   "nbconvert_exporter": "python",
   "pygments_lexer": "ipython3",
   "version": "3.6.4"
  }
 },
 "nbformat": 4,
 "nbformat_minor": 2
}
