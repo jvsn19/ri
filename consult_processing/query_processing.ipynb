{
 "cells": [
  {
   "cell_type": "code",
   "execution_count": 310,
   "metadata": {},
   "outputs": [
    {
     "name": "stdout",
     "output_type": "stream",
     "text": [
      "[nltk_data] Downloading package stopwords to\n",
      "[nltk_data]     C:\\Users\\jvsn1\\AppData\\Roaming\\nltk_data...\n",
      "[nltk_data]   Package stopwords is already up-to-date!\n"
     ]
    },
    {
     "data": {
      "text/plain": [
       "True"
      ]
     },
     "execution_count": 310,
     "metadata": {},
     "output_type": "execute_result"
    }
   ],
   "source": [
    "from nltk.corpus import stopwords \n",
    "import re\n",
    "import unidecode\n",
    "import os\n",
    "import json\n",
    "from math import log\n",
    "from sklearn.feature_extraction.text import TfidfVectorizer\n",
    "nltk.download('stopwords')"
   ]
  },
  {
   "cell_type": "code",
   "execution_count": 326,
   "metadata": {},
   "outputs": [],
   "source": [
    "class QueryProcessor():\n",
    "    def __init__(self, invIndexPath, documentsPath):\n",
    "        self.descr = None\n",
    "        self.queryVector = None\n",
    "        self.invIndex = None # inverted index file\n",
    "        self.posting = None # posting file (document at a time)\n",
    "        self.termIDF = None\n",
    "        self.setInvIndex(invIndexPath)\n",
    "        self.wordsDocuments = list(self.invIndex.keys()) # all words of all documents\n",
    "        self.numDocs = len(os.listdir(documentsPath)) # number of documents in database\n",
    "        \n",
    "    '''\n",
    "        * Method where receive an list of words and cleans it, removing\n",
    "        * stopwords (if useStopwords == True), accentuation and punctuation\n",
    "    '''\n",
    "    def cleaning(self, words, useStopwords = False):\n",
    "        if type(words) == str:\n",
    "            words = words.strip().split(' ')\n",
    "        toRemove = r'[.*,;\\(\\)\\'\\\"\\?\\!%\\$]'\n",
    "        for i in range(len(words)):\n",
    "            words[i] = re.sub(toRemove, '', words[i])\n",
    "            words[i] = unidecode.unidecode(words[i])\n",
    "        if useStopwords:\n",
    "            set_sw = set(stopwords.words('english'))\n",
    "            newWords = []\n",
    "            for word in words:\n",
    "                if not word in set_sw:\n",
    "                    newWords.append(word)\n",
    "            return list(set(newWords))\n",
    "        return list(set(words))\n",
    "            \n",
    "    '''\n",
    "        * Set the self.invIndex to a dict where key is a term and values is a tuple\n",
    "        * (freq, doc), where freq is the frequency of that key term in the document\n",
    "        * doc\n",
    "    '''\n",
    "    def setInvIndex(self, path):\n",
    "        with open(path, encoding='utf-8') as file:\n",
    "            file_text = file.read()[2:-1]\n",
    "            json_dict = json.loads(file_text)\n",
    "        self.invIndex = json_dict\n",
    "    \n",
    "    '''\n",
    "        *Runs the term at a time algorithm and set self.posting with a dictionary \n",
    "        *with scores of all documents by frequency of terms\n",
    "    '''\n",
    "    def runPosting(self, queryWords):\n",
    "        localPosting = {}\n",
    "        for word in queryWords:\n",
    "            freqDocList = self.invIndex.get(word, None)\n",
    "            if freqDocList:\n",
    "                for freqDoc in freqDocList:\n",
    "                    localPosting[freqDoc[1]] = localPosting.get(freqDoc[1], 0) + freqDoc[0]\n",
    "        self.posting = localPosting\n",
    "        \n",
    "    def getPosting(self):\n",
    "        return self.posting\n",
    "            \n",
    "            \n",
    "    def buildDocumentVectors(self):\n",
    "        pass\n",
    "    \n",
    "    \n",
    "    def buildQueryVector(self):\n",
    "        pass\n",
    "    \n",
    "    def runTF(self, term, document):\n",
    "        for freq, doc in self.invIndex[term]:\n",
    "            if doc == document:\n",
    "                return freq\n",
    "        return -1\n",
    "    \n",
    "    def runIDF(self):\n",
    "        termIDF = {}\n",
    "        for term in self.invIndex.keys():\n",
    "            numDocsByTerm = len(self.invIndex[term])\n",
    "            #print(term, numDocByTerm)\n",
    "            idf = log(self.numDocs/numDocsByTerm)\n",
    "            termIDF[term] = idf\n",
    "        self.termIDF = termIDF\n",
    "                \n",
    "            \n",
    "    def setQuery(self, query):\n",
    "        cleanQuery = self.cleaning(query, useStopwords=True)\n",
    "        self.runPosting(cleanQuery)\n",
    "        self.query = cleanQuery\n",
    "        "
   ]
  },
  {
   "cell_type": "code",
   "execution_count": 327,
   "metadata": {},
   "outputs": [],
   "source": [
    "invIndexPath = os.path.abspath('../inverted_index/frequency.json')\n",
    "documents = os.path.abspath('../inverted_index/db/')"
   ]
  },
  {
   "cell_type": "code",
   "execution_count": 328,
   "metadata": {},
   "outputs": [],
   "source": [
    "qp = QueryProcessor(invIndexPath=invIndexPath, documentsPath=documents)"
   ]
  },
  {
   "cell_type": "code",
   "execution_count": 329,
   "metadata": {},
   "outputs": [],
   "source": [
    "qp.setQuery('dark demon souls, creed')"
   ]
  },
  {
   "cell_type": "code",
   "execution_count": 330,
   "metadata": {},
   "outputs": [],
   "source": [
    "qp.runIDF()"
   ]
  },
  {
   "cell_type": "code",
   "execution_count": 334,
   "metadata": {},
   "outputs": [
    {
     "data": {
      "text/plain": [
       "3"
      ]
     },
     "execution_count": 334,
     "metadata": {},
     "output_type": "execute_result"
    }
   ],
   "source": [
    "qp.runTF('assassins', 1)"
   ]
  },
  {
   "cell_type": "code",
   "execution_count": null,
   "metadata": {},
   "outputs": [],
   "source": []
  }
 ],
 "metadata": {
  "kernelspec": {
   "display_name": "Python 3",
   "language": "python",
   "name": "python3"
  },
  "language_info": {
   "codemirror_mode": {
    "name": "ipython",
    "version": 3
   },
   "file_extension": ".py",
   "mimetype": "text/x-python",
   "name": "python",
   "nbconvert_exporter": "python",
   "pygments_lexer": "ipython3",
   "version": "3.6.4"
  }
 },
 "nbformat": 4,
 "nbformat_minor": 2
}
