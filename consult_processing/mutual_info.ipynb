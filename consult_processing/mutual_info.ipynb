{
 "cells": [
  {
   "cell_type": "code",
   "execution_count": 1,
   "metadata": {},
   "outputs": [],
   "source": [
    "import pandas as pd\n",
    "import numpy as np\n",
    "import re"
   ]
  },
  {
   "cell_type": "code",
   "execution_count": 2,
   "metadata": {},
   "outputs": [],
   "source": [
    "import json"
   ]
  },
  {
   "cell_type": "code",
   "execution_count": 3,
   "metadata": {},
   "outputs": [],
   "source": [
    "path = '../inverted_index/twoTerms.json'"
   ]
  },
  {
   "cell_type": "code",
   "execution_count": 4,
   "metadata": {},
   "outputs": [],
   "source": [
    "with open(path, encoding='unicode_escape') as file:\n",
    "            file_text = file.read()[2:-1]\n",
    "            json_dict = json.loads(file_text)"
   ]
  },
  {
   "cell_type": "code",
   "execution_count": 5,
   "metadata": {},
   "outputs": [],
   "source": [
    "jsonList = list(json_dict)"
   ]
  },
  {
   "cell_type": "code",
   "execution_count": 6,
   "metadata": {},
   "outputs": [],
   "source": [
    "def mutual_info(jsonList, json_dict, tipo):\n",
    "    listScore = -1e10\n",
    "    listPos = [0,1,2]\n",
    "    \n",
    "    for i in range(len(jsonList)):\n",
    "        value = re.search(\"\\.(\\w+)\", jsonList[i]).group(1)\n",
    "        \n",
    "        if(value != tipo): continue\n",
    "        \n",
    "        iL = 0\n",
    "\n",
    "        iList = []\n",
    "\n",
    "        iList = json_dict[jsonList[i]]\n",
    "        iL = len(json_dict[jsonList[i]])\n",
    "\n",
    "        for j in range(i+1,len(jsonList)):\n",
    "\n",
    "            jL = 0\n",
    "            jList = []\n",
    "\n",
    "            jList = json_dict[jsonList[j]]\n",
    "            jL = len(json_dict[jsonList[j]])\n",
    "\n",
    "            for k in range(j+1, len(jsonList)):\n",
    "\n",
    "                kL = 0\n",
    "\n",
    "                kList = []\n",
    "\n",
    "                kList = json_dict[jsonList[k]]\n",
    "                kL = len(json_dict[jsonList[k]])\n",
    "\n",
    "                #author\n",
    "                eqList = 0\n",
    "                for m in range(len(iList)):\n",
    "                    for n in range(len(jList)):\n",
    "                        if (iList[m][0] == jList[n][0]):\n",
    "                            for p in range(len(kList)):\n",
    "                                if (iList[m][0] == kList[p][0]):\n",
    "                                    eqList += 1\n",
    "                mutualList = np.log2(eqList/(iL*jL*kL+0.01))\n",
    "                if(mutualList > listScore):\n",
    "                    listScore = mutualList\n",
    "                    listPos = [i,j,k]\n",
    "                    print(listScore)\n",
    "                    \n",
    "\n",
    "    print(listScore)\n",
    "    print(listPos)"
   ]
  },
  {
   "cell_type": "code",
   "execution_count": null,
   "metadata": {},
   "outputs": [
    {
     "name": "stdout",
     "output_type": "stream",
     "text": [
      "-0.0028825085331212782\n",
      "-0.0014419741739064317\n",
      "-0.000961476237445249\n",
      "-0.0002885101581235536\n",
      "-0.0002404291382764871\n",
      "-7.39824641011891e-05\n",
      "-6.13899721752367e-05\n",
      "-1.7921566212734637e-05\n",
      "-1.738176325333289e-05\n",
      "-1.5941293594015746e-05\n",
      "-3.680339797884447e-06\n",
      "-2.297283267926095e-06\n"
     ]
    },
    {
     "name": "stderr",
     "output_type": "stream",
     "text": [
      "/usr/local/lib/python3.5/dist-packages/ipykernel_launcher.py:42: RuntimeWarning: divide by zero encountered in log2\n"
     ]
    },
    {
     "name": "stdout",
     "output_type": "stream",
     "text": [
      "-1.8401710725195718e-06\n",
      "-1.1486420912806095e-06\n",
      "-7.657614956706796e-07\n",
      "-3.680344023013427e-07\n",
      "-2.2972849142679207e-07\n",
      "-1.9144041197398864e-07\n",
      "-9.436780446712862e-08\n",
      "-5.8904744861333346e-08\n",
      "-4.8878405542754535e-08\n",
      "-2.285928235724828e-08\n",
      "-1.4268851523358584e-08\n",
      "-1.3839066845542704e-08\n",
      "-1.2692182805296911e-08\n",
      "-7.797340025170507e-09\n",
      "-2.930210584906051e-09\n"
     ]
    }
   ],
   "source": [
    "mutual_info(jsonList, json_dict, \"os\")"
   ]
  }
 ],
 "metadata": {
  "kernelspec": {
   "display_name": "Python 3",
   "language": "python",
   "name": "python3"
  },
  "language_info": {
   "codemirror_mode": {
    "name": "ipython",
    "version": 3
   },
   "file_extension": ".py",
   "mimetype": "text/x-python",
   "name": "python",
   "nbconvert_exporter": "python",
   "pygments_lexer": "ipython3",
   "version": "3.5.2"
  }
 },
 "nbformat": 4,
 "nbformat_minor": 2
}
