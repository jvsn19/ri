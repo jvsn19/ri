{
 "cells": [
  {
   "cell_type": "code",
   "execution_count": 506,
   "metadata": {},
   "outputs": [
    {
     "name": "stdout",
     "output_type": "stream",
     "text": [
      "[nltk_data] Downloading package stopwords to\n",
      "[nltk_data]     C:\\Users\\jvsn1\\AppData\\Roaming\\nltk_data...\n",
      "[nltk_data]   Package stopwords is already up-to-date!\n"
     ]
    },
    {
     "data": {
      "text/plain": [
       "True"
      ]
     },
     "execution_count": 506,
     "metadata": {},
     "output_type": "execute_result"
    }
   ],
   "source": [
    "from nltk.corpus import stopwords \n",
    "import re\n",
    "import unidecode\n",
    "import os\n",
    "import json\n",
    "from math import log\n",
    "from sklearn.feature_extraction.text import TfidfVectorizer\n",
    "nltk.download('stopwords')"
   ]
  },
  {
   "cell_type": "code",
   "execution_count": 781,
   "metadata": {},
   "outputs": [],
   "source": [
    "class QueryProcessor():\n",
    "    def __init__(self, invIndexPath, documentsPath):\n",
    "        self.descr = None\n",
    "        self.queryTerms = None\n",
    "        self.invIndex = None # inverted index file\n",
    "        self.posting = None # posting file (document at a time)\n",
    "        self.termIDF = None\n",
    "        self.lengthDoc = None\n",
    "        self.documentsPath = documentsPath\n",
    "        self.setInvIndex(invIndexPath)\n",
    "        self.wordsDocuments = list(self.invIndex.keys()) # all words of all documents\n",
    "        self.numDocs = len(os.listdir(documentsPath)) # number of documents in database\n",
    "        self.setLengthDocs() # set length of documents\n",
    "        self.runIDF()\n",
    "        \n",
    "    '''\n",
    "        * Method where receive an list of words and cleans it, removing\n",
    "        * stopwords (if useStopwords == True), accentuation and punctuation\n",
    "    '''\n",
    "    def cleaning(self, words, useStopwords = False):\n",
    "        if type(words) == str:\n",
    "            words = words.strip().split(' ')\n",
    "        toRemove = r'[.*,;\\(\\)\\'\\\"\\?\\!%\\$]'\n",
    "        for i in range(len(words)):\n",
    "            words[i] = re.sub(toRemove, '', words[i])\n",
    "            words[i] = unidecode.unidecode(words[i])\n",
    "        if useStopwords:\n",
    "            set_sw = set(stopwords.words('english'))\n",
    "            newWords = []\n",
    "            for word in words:\n",
    "                if not word in set_sw:\n",
    "                    newWords.append(word)\n",
    "            return list(set(newWords))\n",
    "        return list(set(words))\n",
    "            \n",
    "    '''\n",
    "        * Set the self.invIndex to a dict where key is a term and values is a tuple\n",
    "        * (freq, doc), where freq is the frequency of that key term in the document\n",
    "        * doc\n",
    "    '''\n",
    "    def setInvIndex(self, path):\n",
    "        with open(path, encoding='utf-8') as file:\n",
    "            file_text = file.read()[2:-1]\n",
    "            json_dict = json.loads(file_text)\n",
    "        self.invIndex = json_dict\n",
    "    \n",
    "    '''\n",
    "        *Runs the term at a time algorithm and set self.posting with a dictionary \n",
    "        *with scores of all documents by frequency of terms\n",
    "    '''\n",
    "    def readPosting(self, queryWords):\n",
    "        localReadPosting = {}\n",
    "        for term in queryWords:\n",
    "            freqDocList = self.invIndex.get(term, None)\n",
    "            if freqDocList:\n",
    "                for freq, doc in freqDocList:\n",
    "                    localReadPosting[doc] = localReadPosting.get(doc, 0) + freq\n",
    "        self.documentTermFrequency = localReadPosting\n",
    "        \n",
    "    def getPosting(self):\n",
    "        return self.posting\n",
    "            \n",
    "    '''\n",
    "        * TF algorithm returns the term frequency in a document. An different approach is divide\n",
    "        * this frequency by the number of words in a document\n",
    "    '''\n",
    "    def runTF(self, term, document):\n",
    "        for freq, doc in self.invIndex[term]:\n",
    "            if doc == document:\n",
    "                return freq\n",
    "        return 0\n",
    "    \n",
    "    \n",
    "    '''\n",
    "        * IDF algorithm computes the importance of a term calculating the log of the division between the number\n",
    "        * of documents by the number of documents that contains a term. \n",
    "    '''\n",
    "    def runIDF(self):\n",
    "        termIDF = {}\n",
    "        for term in self.invIndex.keys():\n",
    "            numDocsByTerm = len(self.invIndex[term])\n",
    "            idf = log(self.numDocs/numDocsByTerm)\n",
    "            termIDF[term] = idf\n",
    "        self.termIDF = termIDF\n",
    "                \n",
    "            \n",
    "    def setQuery(self, queryString):\n",
    "        cleanQuery = self.cleaning(queryString, useStopwords=True)\n",
    "        self.readPosting(cleanQuery)\n",
    "        self.queryTerms = cleanQuery\n",
    "        \n",
    "    def performQuery(self, useTfIdf):\n",
    "        score = {i: 0 for i in range(1,self.numDocs+1)}\n",
    "        for term in self.queryTerms:\n",
    "            for freq, doc in self.invIndex[term]:\n",
    "                auxScore = freq\n",
    "                if useTfIdf:\n",
    "                    auxScore = auxScore*self.termIDF.get(term, 0)\n",
    "                score[doc] += auxScore\n",
    "        for doc in score:\n",
    "            score[doc] = score[doc]/self.lengthDoc[doc]\n",
    "        score = sorted(score.items(), key = lambda x : x[1], reverse=True)\n",
    "        return score[:11]\n",
    "    \n",
    "    \n",
    "    def query(self, queryString, useTfIdf = False):\n",
    "        self.setQuery(queryString)\n",
    "        return self.performQuery(useTfIdf)\n",
    "    \n",
    "            \n",
    "    def setLengthDocs(self):\n",
    "        lengthDoc = {}\n",
    "        for fileName in os.listdir(self.documentsPath):\n",
    "            filePath = self.documentsPath + '\\\\' + fileName\n",
    "            with open(filePath, 'r') as fp:\n",
    "                lengthDoc[int(fileName)] = len(fp.read().split(' '))\n",
    "        self.lengthDoc = lengthDoc"
   ]
  },
  {
   "cell_type": "code",
   "execution_count": 782,
   "metadata": {},
   "outputs": [],
   "source": [
    "invIndexPath = os.path.abspath('../inverted_index/frequency.json')\n",
    "documents = os.path.abspath('../inverted_index/db/')"
   ]
  },
  {
   "cell_type": "code",
   "execution_count": 783,
   "metadata": {},
   "outputs": [],
   "source": [
    "qp = QueryProcessor(invIndexPath=invIndexPath, documentsPath=documents)"
   ]
  },
  {
   "cell_type": "code",
   "execution_count": 784,
   "metadata": {},
   "outputs": [],
   "source": [
    "rankingTFIDF = dict(qp.query('challenging game', useTfIdf=True))"
   ]
  },
  {
   "cell_type": "code",
   "execution_count": 785,
   "metadata": {},
   "outputs": [],
   "source": [
    "ranking = dict(qp.query('challenging game', useTfIdf=False))"
   ]
  },
  {
   "cell_type": "code",
   "execution_count": 794,
   "metadata": {},
   "outputs": [],
   "source": [
    "numDocs = len(list(ranking.keys())+list(rankingTFIDF.keys()))"
   ]
  },
  {
   "cell_type": "code",
   "execution_count": 796,
   "metadata": {},
   "outputs": [],
   "source": [
    "def getSumSquareDist(r1, r2):\n",
    "    result = 0\n",
    "    docs = list(ranking.keys())+list(rankingTFIDF.keys())\n",
    "    for doc in docs:\n",
    "        squareDistance = (r1.get(doc, 0)-r2.get(doc,0))**2\n",
    "        result += squareDistance\n",
    "    return result"
   ]
  },
  {
   "cell_type": "code",
   "execution_count": 797,
   "metadata": {},
   "outputs": [],
   "source": [
    "sumSquareDistance = getSumSquareDist(rankingTFIDF, ranking)"
   ]
  },
  {
   "cell_type": "code",
   "execution_count": 788,
   "metadata": {},
   "outputs": [],
   "source": [
    "def spearmanCorrelation(sumSquareDist, k):\n",
    "    num = 6*sumSquareDist\n",
    "    den = k*(k**2-1)\n",
    "    return 1-(num/den)"
   ]
  },
  {
   "cell_type": "code",
   "execution_count": 789,
   "metadata": {},
   "outputs": [
    {
     "data": {
      "text/plain": [
       "0.999999999944675"
      ]
     },
     "execution_count": 789,
     "metadata": {},
     "output_type": "execute_result"
    }
   ],
   "source": [
    "spearmanCorrelation(sumSquareDistance, k = numDocs)"
   ]
  },
  {
   "cell_type": "code",
   "execution_count": null,
   "metadata": {},
   "outputs": [],
   "source": []
  }
 ],
 "metadata": {
  "kernelspec": {
   "display_name": "Python 3",
   "language": "python",
   "name": "python3"
  },
  "language_info": {
   "codemirror_mode": {
    "name": "ipython",
    "version": 3
   },
   "file_extension": ".py",
   "mimetype": "text/x-python",
   "name": "python",
   "nbconvert_exporter": "python",
   "pygments_lexer": "ipython3",
   "version": "3.6.4"
  }
 },
 "nbformat": 4,
 "nbformat_minor": 2
}
